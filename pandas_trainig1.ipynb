{
 "cells": [
  {
   "cell_type": "code",
   "execution_count": 2,
   "id": "344b8413",
   "metadata": {},
   "outputs": [],
   "source": [
    "import numpy as np\n",
    "import pandas as pd"
   ]
  },
  {
   "cell_type": "code",
   "execution_count": 3,
   "id": "6e2d3720",
   "metadata": {},
   "outputs": [],
   "source": [
    "my_data=np.array([1,2,3,5,6])"
   ]
  },
  {
   "cell_type": "code",
   "execution_count": 4,
   "id": "ad22839c",
   "metadata": {},
   "outputs": [],
   "source": [
    "lable=['a','b','c','e','f']"
   ]
  },
  {
   "cell_type": "code",
   "execution_count": 8,
   "id": "ab32a73d",
   "metadata": {},
   "outputs": [],
   "source": [
    "se=pd.Series(my_data,lable)"
   ]
  },
  {
   "cell_type": "code",
   "execution_count": 10,
   "id": "11a27291",
   "metadata": {},
   "outputs": [
    {
     "data": {
      "text/plain": [
       "a    1\n",
       "b    2\n",
       "c    3\n",
       "e    5\n",
       "f    6\n",
       "dtype: int32"
      ]
     },
     "execution_count": 10,
     "metadata": {},
     "output_type": "execute_result"
    }
   ],
   "source": [
    "se"
   ]
  },
  {
   "cell_type": "code",
   "execution_count": 13,
   "id": "b04cf7f6",
   "metadata": {},
   "outputs": [],
   "source": [
    "d={'a':10,'b':15,'c':50,'d':700}"
   ]
  },
  {
   "cell_type": "code",
   "execution_count": 14,
   "id": "db32831d",
   "metadata": {},
   "outputs": [
    {
     "data": {
      "text/plain": [
       "a     10\n",
       "b     15\n",
       "c     50\n",
       "d    700\n",
       "dtype: int64"
      ]
     },
     "execution_count": 14,
     "metadata": {},
     "output_type": "execute_result"
    }
   ],
   "source": [
    "pd.Series(d)"
   ]
  }
 ],
 "metadata": {
  "kernelspec": {
   "display_name": "Python 3",
   "language": "python",
   "name": "python3"
  },
  "language_info": {
   "codemirror_mode": {
    "name": "ipython",
    "version": 3
   },
   "file_extension": ".py",
   "mimetype": "text/x-python",
   "name": "python",
   "nbconvert_exporter": "python",
   "pygments_lexer": "ipython3",
   "version": "3.8.8"
  }
 },
 "nbformat": 4,
 "nbformat_minor": 5
}
