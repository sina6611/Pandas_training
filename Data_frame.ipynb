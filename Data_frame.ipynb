{
 "cells": [
  {
   "cell_type": "code",
   "execution_count": 1,
   "id": "c26dc8dc",
   "metadata": {},
   "outputs": [],
   "source": [
    "from numpy.random import randn"
   ]
  },
  {
   "cell_type": "code",
   "execution_count": 23,
   "id": "e7ec0686",
   "metadata": {},
   "outputs": [],
   "source": [
    "import pandas as pd"
   ]
  },
  {
   "cell_type": "code",
   "execution_count": 27,
   "id": "c008fc0e",
   "metadata": {},
   "outputs": [],
   "source": [
    "import numpy as np"
   ]
  },
  {
   "cell_type": "code",
   "execution_count": 13,
   "id": "22e31a24",
   "metadata": {},
   "outputs": [],
   "source": [
    "df=pd.DataFrame(randn(5,6),['A','B','C','D','G'],['A','B','C','D','G','F'])"
   ]
  },
  {
   "cell_type": "code",
   "execution_count": 20,
   "id": "4c815e90",
   "metadata": {},
   "outputs": [
    {
     "data": {
      "text/plain": [
       "A   -0.072851\n",
       "B    0.749120\n",
       "C    0.943171\n",
       "D    0.191116\n",
       "G    0.308596\n",
       "Name: A, dtype: float64"
      ]
     },
     "execution_count": 20,
     "metadata": {},
     "output_type": "execute_result"
    }
   ],
   "source": [
    "df['A']"
   ]
  },
  {
   "cell_type": "code",
   "execution_count": 21,
   "id": "6d1d62c3",
   "metadata": {},
   "outputs": [
    {
     "data": {
      "text/html": [
       "<div>\n",
       "<style scoped>\n",
       "    .dataframe tbody tr th:only-of-type {\n",
       "        vertical-align: middle;\n",
       "    }\n",
       "\n",
       "    .dataframe tbody tr th {\n",
       "        vertical-align: top;\n",
       "    }\n",
       "\n",
       "    .dataframe thead th {\n",
       "        text-align: right;\n",
       "    }\n",
       "</style>\n",
       "<table border=\"1\" class=\"dataframe\">\n",
       "  <thead>\n",
       "    <tr style=\"text-align: right;\">\n",
       "      <th></th>\n",
       "      <th>A</th>\n",
       "      <th>B</th>\n",
       "      <th>C</th>\n",
       "      <th>D</th>\n",
       "      <th>G</th>\n",
       "      <th>F</th>\n",
       "    </tr>\n",
       "  </thead>\n",
       "  <tbody>\n",
       "    <tr>\n",
       "      <th>A</th>\n",
       "      <td>-0.072851</td>\n",
       "      <td>2.408038</td>\n",
       "      <td>1.733652</td>\n",
       "      <td>-1.172790</td>\n",
       "      <td>0.267582</td>\n",
       "      <td>0.301962</td>\n",
       "    </tr>\n",
       "    <tr>\n",
       "      <th>B</th>\n",
       "      <td>0.749120</td>\n",
       "      <td>1.789837</td>\n",
       "      <td>-0.347599</td>\n",
       "      <td>0.158125</td>\n",
       "      <td>0.030130</td>\n",
       "      <td>-0.423488</td>\n",
       "    </tr>\n",
       "    <tr>\n",
       "      <th>C</th>\n",
       "      <td>0.943171</td>\n",
       "      <td>-1.535518</td>\n",
       "      <td>0.620289</td>\n",
       "      <td>0.025922</td>\n",
       "      <td>-0.628316</td>\n",
       "      <td>-0.041838</td>\n",
       "    </tr>\n",
       "    <tr>\n",
       "      <th>D</th>\n",
       "      <td>0.191116</td>\n",
       "      <td>1.840702</td>\n",
       "      <td>0.507273</td>\n",
       "      <td>-0.066672</td>\n",
       "      <td>0.435108</td>\n",
       "      <td>0.705950</td>\n",
       "    </tr>\n",
       "    <tr>\n",
       "      <th>G</th>\n",
       "      <td>0.308596</td>\n",
       "      <td>-0.524777</td>\n",
       "      <td>0.165089</td>\n",
       "      <td>1.377872</td>\n",
       "      <td>0.633433</td>\n",
       "      <td>0.316901</td>\n",
       "    </tr>\n",
       "  </tbody>\n",
       "</table>\n",
       "</div>"
      ],
      "text/plain": [
       "          A         B         C         D         G         F\n",
       "A -0.072851  2.408038  1.733652 -1.172790  0.267582  0.301962\n",
       "B  0.749120  1.789837 -0.347599  0.158125  0.030130 -0.423488\n",
       "C  0.943171 -1.535518  0.620289  0.025922 -0.628316 -0.041838\n",
       "D  0.191116  1.840702  0.507273 -0.066672  0.435108  0.705950\n",
       "G  0.308596 -0.524777  0.165089  1.377872  0.633433  0.316901"
      ]
     },
     "execution_count": 21,
     "metadata": {},
     "output_type": "execute_result"
    }
   ],
   "source": [
    "df"
   ]
  },
  {
   "cell_type": "code",
   "execution_count": 30,
   "id": "09d58484",
   "metadata": {},
   "outputs": [
    {
     "data": {
      "text/plain": [
       "array([[1, 2, 3, 6, 4],\n",
       "       [5, 9, 6, 3, 2]])"
      ]
     },
     "execution_count": 30,
     "metadata": {},
     "output_type": "execute_result"
    }
   ],
   "source": [
    "np.array([[1,2,3,6,4],[5,9,6,3,2]])"
   ]
  },
  {
   "cell_type": "code",
   "execution_count": 40,
   "id": "030c3583",
   "metadata": {},
   "outputs": [],
   "source": [
    "df2=pd.DataFrame(randn(3,4),['A','B','C'],['M','D','F','G'])"
   ]
  },
  {
   "cell_type": "code",
   "execution_count": 45,
   "id": "295ba538",
   "metadata": {},
   "outputs": [
    {
     "data": {
      "text/html": [
       "<div>\n",
       "<style scoped>\n",
       "    .dataframe tbody tr th:only-of-type {\n",
       "        vertical-align: middle;\n",
       "    }\n",
       "\n",
       "    .dataframe tbody tr th {\n",
       "        vertical-align: top;\n",
       "    }\n",
       "\n",
       "    .dataframe thead th {\n",
       "        text-align: right;\n",
       "    }\n",
       "</style>\n",
       "<table border=\"1\" class=\"dataframe\">\n",
       "  <thead>\n",
       "    <tr style=\"text-align: right;\">\n",
       "      <th></th>\n",
       "      <th>B</th>\n",
       "      <th>D</th>\n",
       "    </tr>\n",
       "  </thead>\n",
       "  <tbody>\n",
       "    <tr>\n",
       "      <th>A</th>\n",
       "      <td>2.408038</td>\n",
       "      <td>-1.172790</td>\n",
       "    </tr>\n",
       "    <tr>\n",
       "      <th>B</th>\n",
       "      <td>1.789837</td>\n",
       "      <td>0.158125</td>\n",
       "    </tr>\n",
       "    <tr>\n",
       "      <th>C</th>\n",
       "      <td>-1.535518</td>\n",
       "      <td>0.025922</td>\n",
       "    </tr>\n",
       "    <tr>\n",
       "      <th>D</th>\n",
       "      <td>1.840702</td>\n",
       "      <td>-0.066672</td>\n",
       "    </tr>\n",
       "    <tr>\n",
       "      <th>G</th>\n",
       "      <td>-0.524777</td>\n",
       "      <td>1.377872</td>\n",
       "    </tr>\n",
       "  </tbody>\n",
       "</table>\n",
       "</div>"
      ],
      "text/plain": [
       "          B         D\n",
       "A  2.408038 -1.172790\n",
       "B  1.789837  0.158125\n",
       "C -1.535518  0.025922\n",
       "D  1.840702 -0.066672\n",
       "G -0.524777  1.377872"
      ]
     },
     "execution_count": 45,
     "metadata": {},
     "output_type": "execute_result"
    }
   ],
   "source": [
    "df[['B','D']]"
   ]
  },
  {
   "cell_type": "code",
   "execution_count": 49,
   "id": "cea93269",
   "metadata": {},
   "outputs": [],
   "source": [
    "df['new']=df['F']+df['A']"
   ]
  },
  {
   "cell_type": "code",
   "execution_count": 55,
   "id": "fa062603",
   "metadata": {},
   "outputs": [
    {
     "data": {
      "text/html": [
       "<div>\n",
       "<style scoped>\n",
       "    .dataframe tbody tr th:only-of-type {\n",
       "        vertical-align: middle;\n",
       "    }\n",
       "\n",
       "    .dataframe tbody tr th {\n",
       "        vertical-align: top;\n",
       "    }\n",
       "\n",
       "    .dataframe thead th {\n",
       "        text-align: right;\n",
       "    }\n",
       "</style>\n",
       "<table border=\"1\" class=\"dataframe\">\n",
       "  <thead>\n",
       "    <tr style=\"text-align: right;\">\n",
       "      <th></th>\n",
       "      <th>A</th>\n",
       "      <th>C</th>\n",
       "      <th>D</th>\n",
       "      <th>G</th>\n",
       "      <th>F</th>\n",
       "      <th>new</th>\n",
       "    </tr>\n",
       "  </thead>\n",
       "  <tbody>\n",
       "    <tr>\n",
       "      <th>A</th>\n",
       "      <td>-0.072851</td>\n",
       "      <td>1.733652</td>\n",
       "      <td>-1.172790</td>\n",
       "      <td>0.267582</td>\n",
       "      <td>0.301962</td>\n",
       "      <td>0.229111</td>\n",
       "    </tr>\n",
       "    <tr>\n",
       "      <th>B</th>\n",
       "      <td>0.749120</td>\n",
       "      <td>-0.347599</td>\n",
       "      <td>0.158125</td>\n",
       "      <td>0.030130</td>\n",
       "      <td>-0.423488</td>\n",
       "      <td>0.325632</td>\n",
       "    </tr>\n",
       "    <tr>\n",
       "      <th>C</th>\n",
       "      <td>0.943171</td>\n",
       "      <td>0.620289</td>\n",
       "      <td>0.025922</td>\n",
       "      <td>-0.628316</td>\n",
       "      <td>-0.041838</td>\n",
       "      <td>0.901334</td>\n",
       "    </tr>\n",
       "    <tr>\n",
       "      <th>D</th>\n",
       "      <td>0.191116</td>\n",
       "      <td>0.507273</td>\n",
       "      <td>-0.066672</td>\n",
       "      <td>0.435108</td>\n",
       "      <td>0.705950</td>\n",
       "      <td>0.897066</td>\n",
       "    </tr>\n",
       "    <tr>\n",
       "      <th>G</th>\n",
       "      <td>0.308596</td>\n",
       "      <td>0.165089</td>\n",
       "      <td>1.377872</td>\n",
       "      <td>0.633433</td>\n",
       "      <td>0.316901</td>\n",
       "      <td>0.625497</td>\n",
       "    </tr>\n",
       "  </tbody>\n",
       "</table>\n",
       "</div>"
      ],
      "text/plain": [
       "          A         C         D         G         F       new\n",
       "A -0.072851  1.733652 -1.172790  0.267582  0.301962  0.229111\n",
       "B  0.749120 -0.347599  0.158125  0.030130 -0.423488  0.325632\n",
       "C  0.943171  0.620289  0.025922 -0.628316 -0.041838  0.901334\n",
       "D  0.191116  0.507273 -0.066672  0.435108  0.705950  0.897066\n",
       "G  0.308596  0.165089  1.377872  0.633433  0.316901  0.625497"
      ]
     },
     "execution_count": 55,
     "metadata": {},
     "output_type": "execute_result"
    }
   ],
   "source": [
    "df.drop('B',axis=1)"
   ]
  },
  {
   "cell_type": "code",
   "execution_count": 59,
   "id": "defd5e34",
   "metadata": {},
   "outputs": [
    {
     "data": {
      "text/plain": [
       "(3, 4)"
      ]
     },
     "execution_count": 59,
     "metadata": {},
     "output_type": "execute_result"
    }
   ],
   "source": [
    "df2.shape"
   ]
  },
  {
   "cell_type": "code",
   "execution_count": 64,
   "id": "d2a1b6d5",
   "metadata": {},
   "outputs": [
    {
     "data": {
      "text/html": [
       "<div>\n",
       "<style scoped>\n",
       "    .dataframe tbody tr th:only-of-type {\n",
       "        vertical-align: middle;\n",
       "    }\n",
       "\n",
       "    .dataframe tbody tr th {\n",
       "        vertical-align: top;\n",
       "    }\n",
       "\n",
       "    .dataframe thead th {\n",
       "        text-align: right;\n",
       "    }\n",
       "</style>\n",
       "<table border=\"1\" class=\"dataframe\">\n",
       "  <thead>\n",
       "    <tr style=\"text-align: right;\">\n",
       "      <th></th>\n",
       "      <th>A</th>\n",
       "      <th>B</th>\n",
       "      <th>C</th>\n",
       "      <th>D</th>\n",
       "      <th>G</th>\n",
       "      <th>F</th>\n",
       "      <th>new</th>\n",
       "    </tr>\n",
       "  </thead>\n",
       "  <tbody>\n",
       "    <tr>\n",
       "      <th>B</th>\n",
       "      <td>0.749120</td>\n",
       "      <td>1.789837</td>\n",
       "      <td>-0.347599</td>\n",
       "      <td>0.158125</td>\n",
       "      <td>0.030130</td>\n",
       "      <td>-0.423488</td>\n",
       "      <td>0.325632</td>\n",
       "    </tr>\n",
       "    <tr>\n",
       "      <th>C</th>\n",
       "      <td>0.943171</td>\n",
       "      <td>-1.535518</td>\n",
       "      <td>0.620289</td>\n",
       "      <td>0.025922</td>\n",
       "      <td>-0.628316</td>\n",
       "      <td>-0.041838</td>\n",
       "      <td>0.901334</td>\n",
       "    </tr>\n",
       "    <tr>\n",
       "      <th>D</th>\n",
       "      <td>0.191116</td>\n",
       "      <td>1.840702</td>\n",
       "      <td>0.507273</td>\n",
       "      <td>-0.066672</td>\n",
       "      <td>0.435108</td>\n",
       "      <td>0.705950</td>\n",
       "      <td>0.897066</td>\n",
       "    </tr>\n",
       "    <tr>\n",
       "      <th>G</th>\n",
       "      <td>0.308596</td>\n",
       "      <td>-0.524777</td>\n",
       "      <td>0.165089</td>\n",
       "      <td>1.377872</td>\n",
       "      <td>0.633433</td>\n",
       "      <td>0.316901</td>\n",
       "      <td>0.625497</td>\n",
       "    </tr>\n",
       "  </tbody>\n",
       "</table>\n",
       "</div>"
      ],
      "text/plain": [
       "          A         B         C         D         G         F       new\n",
       "B  0.749120  1.789837 -0.347599  0.158125  0.030130 -0.423488  0.325632\n",
       "C  0.943171 -1.535518  0.620289  0.025922 -0.628316 -0.041838  0.901334\n",
       "D  0.191116  1.840702  0.507273 -0.066672  0.435108  0.705950  0.897066\n",
       "G  0.308596 -0.524777  0.165089  1.377872  0.633433  0.316901  0.625497"
      ]
     },
     "execution_count": 64,
     "metadata": {},
     "output_type": "execute_result"
    }
   ],
   "source": [
    "df"
   ]
  },
  {
   "cell_type": "code",
   "execution_count": 65,
   "id": "c47f4e84",
   "metadata": {},
   "outputs": [],
   "source": [
    "df.drop('B',axis=0,inplace=True)"
   ]
  },
  {
   "cell_type": "code",
   "execution_count": 69,
   "id": "3ba426d5",
   "metadata": {},
   "outputs": [
    {
     "data": {
      "text/plain": [
       "C    0.943171\n",
       "D    0.191116\n",
       "G    0.308596\n",
       "Name: A, dtype: float64"
      ]
     },
     "execution_count": 69,
     "metadata": {},
     "output_type": "execute_result"
    }
   ],
   "source": [
    "df['A']"
   ]
  },
  {
   "cell_type": "code",
   "execution_count": 73,
   "id": "ce8ad596",
   "metadata": {},
   "outputs": [
    {
     "data": {
      "text/html": [
       "<div>\n",
       "<style scoped>\n",
       "    .dataframe tbody tr th:only-of-type {\n",
       "        vertical-align: middle;\n",
       "    }\n",
       "\n",
       "    .dataframe tbody tr th {\n",
       "        vertical-align: top;\n",
       "    }\n",
       "\n",
       "    .dataframe thead th {\n",
       "        text-align: right;\n",
       "    }\n",
       "</style>\n",
       "<table border=\"1\" class=\"dataframe\">\n",
       "  <thead>\n",
       "    <tr style=\"text-align: right;\">\n",
       "      <th></th>\n",
       "      <th>C</th>\n",
       "      <th>G</th>\n",
       "    </tr>\n",
       "  </thead>\n",
       "  <tbody>\n",
       "    <tr>\n",
       "      <th>D</th>\n",
       "      <td>0.507273</td>\n",
       "      <td>0.435108</td>\n",
       "    </tr>\n",
       "    <tr>\n",
       "      <th>G</th>\n",
       "      <td>0.165089</td>\n",
       "      <td>0.633433</td>\n",
       "    </tr>\n",
       "  </tbody>\n",
       "</table>\n",
       "</div>"
      ],
      "text/plain": [
       "          C         G\n",
       "D  0.507273  0.435108\n",
       "G  0.165089  0.633433"
      ]
     },
     "execution_count": 73,
     "metadata": {},
     "output_type": "execute_result"
    }
   ],
   "source": [
    "df.iloc[[1,2],[2,4]]"
   ]
  },
  {
   "cell_type": "code",
   "execution_count": 80,
   "id": "d2fa263c",
   "metadata": {},
   "outputs": [
    {
     "data": {
      "text/html": [
       "<div>\n",
       "<style scoped>\n",
       "    .dataframe tbody tr th:only-of-type {\n",
       "        vertical-align: middle;\n",
       "    }\n",
       "\n",
       "    .dataframe tbody tr th {\n",
       "        vertical-align: top;\n",
       "    }\n",
       "\n",
       "    .dataframe thead th {\n",
       "        text-align: right;\n",
       "    }\n",
       "</style>\n",
       "<table border=\"1\" class=\"dataframe\">\n",
       "  <thead>\n",
       "    <tr style=\"text-align: right;\">\n",
       "      <th></th>\n",
       "      <th>B</th>\n",
       "      <th>G</th>\n",
       "    </tr>\n",
       "  </thead>\n",
       "  <tbody>\n",
       "    <tr>\n",
       "      <th>C</th>\n",
       "      <td>-1.535518</td>\n",
       "      <td>-0.628316</td>\n",
       "    </tr>\n",
       "    <tr>\n",
       "      <th>G</th>\n",
       "      <td>-0.524777</td>\n",
       "      <td>0.633433</td>\n",
       "    </tr>\n",
       "  </tbody>\n",
       "</table>\n",
       "</div>"
      ],
      "text/plain": [
       "          B         G\n",
       "C -1.535518 -0.628316\n",
       "G -0.524777  0.633433"
      ]
     },
     "execution_count": 80,
     "metadata": {},
     "output_type": "execute_result"
    }
   ],
   "source": [
    "df.loc[['C','G'],['B','G']]"
   ]
  },
  {
   "cell_type": "code",
   "execution_count": 91,
   "id": "0e4baca2",
   "metadata": {},
   "outputs": [],
   "source": [
    "a=df['B']<0"
   ]
  },
  {
   "cell_type": "code",
   "execution_count": 92,
   "id": "d43ce109",
   "metadata": {},
   "outputs": [
    {
     "data": {
      "text/plain": [
       "C     True\n",
       "D    False\n",
       "G     True\n",
       "Name: B, dtype: bool"
      ]
     },
     "execution_count": 92,
     "metadata": {},
     "output_type": "execute_result"
    }
   ],
   "source": [
    "a"
   ]
  },
  {
   "cell_type": "code",
   "execution_count": 87,
   "id": "2056d364",
   "metadata": {},
   "outputs": [
    {
     "data": {
      "text/html": [
       "<div>\n",
       "<style scoped>\n",
       "    .dataframe tbody tr th:only-of-type {\n",
       "        vertical-align: middle;\n",
       "    }\n",
       "\n",
       "    .dataframe tbody tr th {\n",
       "        vertical-align: top;\n",
       "    }\n",
       "\n",
       "    .dataframe thead th {\n",
       "        text-align: right;\n",
       "    }\n",
       "</style>\n",
       "<table border=\"1\" class=\"dataframe\">\n",
       "  <thead>\n",
       "    <tr style=\"text-align: right;\">\n",
       "      <th></th>\n",
       "      <th>A</th>\n",
       "      <th>B</th>\n",
       "      <th>C</th>\n",
       "      <th>D</th>\n",
       "      <th>G</th>\n",
       "      <th>F</th>\n",
       "      <th>new</th>\n",
       "    </tr>\n",
       "  </thead>\n",
       "  <tbody>\n",
       "    <tr>\n",
       "      <th>D</th>\n",
       "      <td>0.191116</td>\n",
       "      <td>1.840702</td>\n",
       "      <td>0.507273</td>\n",
       "      <td>-0.066672</td>\n",
       "      <td>0.435108</td>\n",
       "      <td>0.70595</td>\n",
       "      <td>0.897066</td>\n",
       "    </tr>\n",
       "  </tbody>\n",
       "</table>\n",
       "</div>"
      ],
      "text/plain": [
       "          A         B         C         D         G        F       new\n",
       "D  0.191116  1.840702  0.507273 -0.066672  0.435108  0.70595  0.897066"
      ]
     },
     "execution_count": 87,
     "metadata": {},
     "output_type": "execute_result"
    }
   ],
   "source": [
    "df[a]"
   ]
  },
  {
   "cell_type": "code",
   "execution_count": 89,
   "id": "b466c396",
   "metadata": {},
   "outputs": [],
   "source": [
    "b=df>0"
   ]
  },
  {
   "cell_type": "code",
   "execution_count": 107,
   "id": "c33b0931",
   "metadata": {},
   "outputs": [
    {
     "data": {
      "text/plain": [
       "C    True\n",
       "D    True\n",
       "G    True\n",
       "Name: C, dtype: bool"
      ]
     },
     "execution_count": 107,
     "metadata": {},
     "output_type": "execute_result"
    }
   ],
   "source": [
    "df['C']>0"
   ]
  },
  {
   "cell_type": "code",
   "execution_count": 112,
   "id": "75ac2eff",
   "metadata": {},
   "outputs": [
    {
     "data": {
      "text/html": [
       "<div>\n",
       "<style scoped>\n",
       "    .dataframe tbody tr th:only-of-type {\n",
       "        vertical-align: middle;\n",
       "    }\n",
       "\n",
       "    .dataframe tbody tr th {\n",
       "        vertical-align: top;\n",
       "    }\n",
       "\n",
       "    .dataframe thead th {\n",
       "        text-align: right;\n",
       "    }\n",
       "</style>\n",
       "<table border=\"1\" class=\"dataframe\">\n",
       "  <thead>\n",
       "    <tr style=\"text-align: right;\">\n",
       "      <th></th>\n",
       "      <th>A</th>\n",
       "      <th>B</th>\n",
       "      <th>C</th>\n",
       "      <th>D</th>\n",
       "      <th>G</th>\n",
       "      <th>F</th>\n",
       "      <th>new</th>\n",
       "    </tr>\n",
       "  </thead>\n",
       "  <tbody>\n",
       "    <tr>\n",
       "      <th>C</th>\n",
       "      <td>0.943171</td>\n",
       "      <td>-1.535518</td>\n",
       "      <td>0.620289</td>\n",
       "      <td>0.025922</td>\n",
       "      <td>-0.628316</td>\n",
       "      <td>-0.041838</td>\n",
       "      <td>0.901334</td>\n",
       "    </tr>\n",
       "    <tr>\n",
       "      <th>D</th>\n",
       "      <td>0.191116</td>\n",
       "      <td>1.840702</td>\n",
       "      <td>0.507273</td>\n",
       "      <td>-0.066672</td>\n",
       "      <td>0.435108</td>\n",
       "      <td>0.705950</td>\n",
       "      <td>0.897066</td>\n",
       "    </tr>\n",
       "    <tr>\n",
       "      <th>G</th>\n",
       "      <td>0.308596</td>\n",
       "      <td>-0.524777</td>\n",
       "      <td>0.165089</td>\n",
       "      <td>1.377872</td>\n",
       "      <td>0.633433</td>\n",
       "      <td>0.316901</td>\n",
       "      <td>0.625497</td>\n",
       "    </tr>\n",
       "  </tbody>\n",
       "</table>\n",
       "</div>"
      ],
      "text/plain": [
       "          A         B         C         D         G         F       new\n",
       "C  0.943171 -1.535518  0.620289  0.025922 -0.628316 -0.041838  0.901334\n",
       "D  0.191116  1.840702  0.507273 -0.066672  0.435108  0.705950  0.897066\n",
       "G  0.308596 -0.524777  0.165089  1.377872  0.633433  0.316901  0.625497"
      ]
     },
     "execution_count": 112,
     "metadata": {},
     "output_type": "execute_result"
    }
   ],
   "source": [
    "df[df['C']>0]"
   ]
  },
  {
   "cell_type": "code",
   "execution_count": 116,
   "id": "5a1e76ad",
   "metadata": {},
   "outputs": [
    {
     "data": {
      "text/html": [
       "<div>\n",
       "<style scoped>\n",
       "    .dataframe tbody tr th:only-of-type {\n",
       "        vertical-align: middle;\n",
       "    }\n",
       "\n",
       "    .dataframe tbody tr th {\n",
       "        vertical-align: top;\n",
       "    }\n",
       "\n",
       "    .dataframe thead th {\n",
       "        text-align: right;\n",
       "    }\n",
       "</style>\n",
       "<table border=\"1\" class=\"dataframe\">\n",
       "  <thead>\n",
       "    <tr style=\"text-align: right;\">\n",
       "      <th></th>\n",
       "      <th>D</th>\n",
       "      <th>G</th>\n",
       "    </tr>\n",
       "  </thead>\n",
       "  <tbody>\n",
       "    <tr>\n",
       "      <th>C</th>\n",
       "      <td>0.025922</td>\n",
       "      <td>-0.628316</td>\n",
       "    </tr>\n",
       "    <tr>\n",
       "      <th>D</th>\n",
       "      <td>-0.066672</td>\n",
       "      <td>0.435108</td>\n",
       "    </tr>\n",
       "    <tr>\n",
       "      <th>G</th>\n",
       "      <td>1.377872</td>\n",
       "      <td>0.633433</td>\n",
       "    </tr>\n",
       "  </tbody>\n",
       "</table>\n",
       "</div>"
      ],
      "text/plain": [
       "          D         G\n",
       "C  0.025922 -0.628316\n",
       "D -0.066672  0.435108\n",
       "G  1.377872  0.633433"
      ]
     },
     "execution_count": 116,
     "metadata": {},
     "output_type": "execute_result"
    }
   ],
   "source": [
    "df[['D','G']]"
   ]
  },
  {
   "cell_type": "code",
   "execution_count": 122,
   "id": "579990ab",
   "metadata": {},
   "outputs": [
    {
     "ename": "AttributeError",
     "evalue": "'numpy.float64' object has no attribute 'loc'",
     "output_type": "error",
     "traceback": [
      "\u001b[1;31m---------------------------------------------------------------------------\u001b[0m",
      "\u001b[1;31mAttributeError\u001b[0m                            Traceback (most recent call last)",
      "\u001b[1;32m<ipython-input-122-b9a6c72dc6ad>\u001b[0m in \u001b[0;36m<module>\u001b[1;34m\u001b[0m\n\u001b[1;32m----> 1\u001b[1;33m \u001b[0mdf\u001b[0m\u001b[1;33m[\u001b[0m\u001b[1;33m[\u001b[0m\u001b[1;34m'D'\u001b[0m\u001b[1;33m,\u001b[0m\u001b[1;34m'G'\u001b[0m\u001b[1;33m]\u001b[0m\u001b[1;33m]\u001b[0m\u001b[1;33m[\u001b[0m\u001b[1;34m'D'\u001b[0m\u001b[1;33m]\u001b[0m\u001b[1;33m.\u001b[0m\u001b[0mloc\u001b[0m\u001b[1;33m[\u001b[0m\u001b[1;34m'C'\u001b[0m\u001b[1;33m]\u001b[0m\u001b[1;33m.\u001b[0m\u001b[0mloc\u001b[0m\u001b[1;33m[\u001b[0m\u001b[0mG\u001b[0m\u001b[1;33m]\u001b[0m\u001b[1;33m\u001b[0m\u001b[1;33m\u001b[0m\u001b[0m\n\u001b[0m",
      "\u001b[1;31mAttributeError\u001b[0m: 'numpy.float64' object has no attribute 'loc'"
     ]
    }
   ],
   "source": [
    "df[['D','G']]['D'].loc['C']"
   ]
  }
 ],
 "metadata": {
  "kernelspec": {
   "display_name": "Python 3",
   "language": "python",
   "name": "python3"
  },
  "language_info": {
   "codemirror_mode": {
    "name": "ipython",
    "version": 3
   },
   "file_extension": ".py",
   "mimetype": "text/x-python",
   "name": "python",
   "nbconvert_exporter": "python",
   "pygments_lexer": "ipython3",
   "version": "3.8.8"
  }
 },
 "nbformat": 4,
 "nbformat_minor": 5
}
